{
 "cells": [
  {
   "cell_type": "markdown",
   "metadata": {},
   "source": [
    "# Estatistica Descritiva\n",
    "\n",
    "Este notebook tem como propósito a exploração e análise de um conjunto de dados relacionado ao mercado imobiliário nos Estados Unidos. A motivação por trás desta análise é compreender os fatores que influenciam a variação nos preços das residências, visando identificar as razões pelas quais algumas casas apresentam valores superiores em comparação a outras. Para atingir esse objetivo, empregaremos técnicas de estatística descritiva.\n",
    "\n",
    "A estatística descritiva é uma abordagem estatística que nos permite resumir e interpretar padrões nos dados. Ao aplicar essas técnicas ao conjunto de dados do mercado imobiliário, buscamos extrair insights significativos sobre as características que impactam diretamente nos preços das residências. Essa compreensão mais profunda pode ser fundamental para investidores, compradores e agentes imobiliários, fornecendo uma base sólida para a tomada de decisões informadas.\n",
    "\n",
    "Ao longo deste notebook, exploraremos diversas métricas estatísticas, gráficos descritivos e análises comparativas para revelar padrões e tendências presentes no mercado imobiliário. A intenção é não apenas identificar correlações entre variáveis, mas também oferecer uma visão abrangente das nuances que influenciam o valor das propriedades. Essas descobertas podem fornecer insights valiosos para os interessados no setor imobiliário, contribuindo para uma compreensão mais clara do cenário em questão."
   ]
  },
  {
   "cell_type": "markdown",
   "metadata": {},
   "source": [
    "## Iniciando o código \n",
    "\n",
    "Nesta etapa iremos realizar o import de alguns pacotes e importação dos nossos dados."
   ]
  },
  {
   "cell_type": "code",
   "execution_count": null,
   "metadata": {},
   "outputs": [],
   "source": [
    "#Importando pacotes para realizar a análise de dados.\n",
    "\n",
    "import pandas as pd \n",
    "import matplotlib.pyplot as plt \n",
    "import seaborn as sns\n",
    "import numpy as np"
   ]
  },
  {
   "cell_type": "code",
   "execution_count": null,
   "metadata": {},
   "outputs": [],
   "source": [
    "#Lendo o arquivo para iniciar as análises\n",
    "\n",
    "df = pd.read_csv('../../data/Aula01 - Estatistica Descritiva/house_price.csv')\n",
    "df"
   ]
  },
  {
   "cell_type": "code",
   "execution_count": 21,
   "metadata": {},
   "outputs": [
    {
     "name": "stdout",
     "output_type": "stream",
     "text": [
      "<class 'pandas.core.frame.DataFrame'>\n",
      "RangeIndex: 1460 entries, 0 to 1459\n",
      "Data columns (total 12 columns):\n",
      " #   Column        Non-Null Count  Dtype \n",
      "---  ------        --------------  ----- \n",
      " 0   Unnamed: 0    1460 non-null   int64 \n",
      " 1   SalePrice     1460 non-null   int64 \n",
      " 2   OverallQual   1460 non-null   int64 \n",
      " 3   OverallCond   1460 non-null   int64 \n",
      " 4   BedroomAbvGr  1460 non-null   int64 \n",
      " 5   TotRmsAbvGrd  1460 non-null   int64 \n",
      " 6   GrLivArea     1460 non-null   int64 \n",
      " 7   TotalBsmtSF   1460 non-null   int64 \n",
      " 8   YearBuilt     1460 non-null   int64 \n",
      " 9   MSZoning      1460 non-null   object\n",
      " 10  Utilities     1460 non-null   object\n",
      " 11  BldgType      1460 non-null   object\n",
      "dtypes: int64(9), object(3)\n",
      "memory usage: 137.0+ KB\n"
     ]
    }
   ],
   "source": [
    "#Verificando algumas informações do dataset\n",
    "\n",
    "df.info()"
   ]
  },
  {
   "cell_type": "code",
   "execution_count": 26,
   "metadata": {},
   "outputs": [],
   "source": [
    "#Removendo coluna que não iremos utilizar\n",
    "df = df[[ 'SalePrice', 'OverallQual', 'OverallCond', 'BedroomAbvGr',\n",
    "       'TotRmsAbvGrd', 'GrLivArea', 'TotalBsmtSF', 'YearBuilt', 'MSZoning',\n",
    "       'Utilities', 'BldgType']] "
   ]
  },
  {
   "cell_type": "markdown",
   "metadata": {},
   "source": [
    "### Informações sobre o dataset\n",
    "\n",
    "* Colunas: \n",
    "\n",
    "     **SalePrice:** Price of sale  \n",
    "     **OverallQual:** Rates the overall material and finish of the house  \n",
    "     **OverallCond:** Rates the overall condition of the house  \n",
    "     **BedroomAbvGr:** Bedrooms above grade (does NOT include basement bedrooms)  \n",
    "     **TotRmsAbvGrd:** Total rooms above grade (does not include bathrooms)  \n",
    "     **GrLivArea:** Above grade (ground) living area square feet  \n",
    "     **TotalBsmtSF:** Total square feet of basement area  \n",
    "     **YearBuilt:** Original construction date  \n",
    "     **MSZoning:** Identifies the general zoning classification of the sale  \n",
    "           &nbsp;&nbsp;&nbsp;&nbsp;A    Agriculture  \n",
    "           &nbsp;&nbsp;&nbsp;&nbsp;C    Commercial  \n",
    "           &nbsp;&nbsp;&nbsp;&nbsp;FV    Floating Village Residential  \n",
    "           &nbsp;&nbsp;&nbsp;&nbsp;I     Industrial  \n",
    "           &nbsp;&nbsp;&nbsp;&nbsp;RH    Residential High Density  \n",
    "           &nbsp;&nbsp;&nbsp;&nbsp;RL    Residential Low Density  \n",
    "           &nbsp;&nbsp;&nbsp;&nbsp;RP    Residential Low Density Park   \n",
    "           &nbsp;&nbsp;&nbsp;&nbsp;RM    Residential Medium Density  \n",
    "     **Utilities:** Type of utilities available  \n",
    "           &nbsp;&nbsp;&nbsp;&nbsp;AllPub    All public Utilities (E,G,W,& S)      \n",
    "           &nbsp;&nbsp;&nbsp;&nbsp;NoSewr    Electricity, Gas, and Water (Septic Tank)  \n",
    "           &nbsp;&nbsp;&nbsp;&nbsp;NoSeWa    Electricity and Gas Only  \n",
    "           &nbsp;&nbsp;&nbsp;&nbsp;ELO       Electricity only      \n",
    "     **BldgType:** Type of dwelling  \n",
    "           &nbsp;&nbsp;&nbsp;&nbsp;1Fam      Single-family Detached      \n",
    "           &nbsp;&nbsp;&nbsp;&nbsp;2FmCon    Two-family Conversion; originally built as one-family dwelling  \n",
    "           &nbsp;&nbsp;&nbsp;&nbsp;Duplx     Duplex  \n",
    "           &nbsp;&nbsp;&nbsp;&nbsp;TwnhsE    Townhouse End Unit  \n",
    "           &nbsp;&nbsp;&nbsp;&nbsp;TwnhsI    Townhouse Inside Unit  "
   ]
  },
  {
   "cell_type": "code",
   "execution_count": 27,
   "metadata": {},
   "outputs": [
    {
     "data": {
      "text/plain": [
       "SalePrice       0\n",
       "OverallQual     0\n",
       "OverallCond     0\n",
       "BedroomAbvGr    0\n",
       "TotRmsAbvGrd    0\n",
       "GrLivArea       0\n",
       "TotalBsmtSF     0\n",
       "YearBuilt       0\n",
       "MSZoning        0\n",
       "Utilities       0\n",
       "BldgType        0\n",
       "dtype: int64"
      ]
     },
     "execution_count": 27,
     "metadata": {},
     "output_type": "execute_result"
    }
   ],
   "source": [
    "#Verificando valores nulos\n",
    "\n",
    "df.isnull().sum()"
   ]
  },
  {
   "cell_type": "code",
   "execution_count": 29,
   "metadata": {},
   "outputs": [
    {
     "data": {
      "text/html": [
       "<div>\n",
       "<style scoped>\n",
       "    .dataframe tbody tr th:only-of-type {\n",
       "        vertical-align: middle;\n",
       "    }\n",
       "\n",
       "    .dataframe tbody tr th {\n",
       "        vertical-align: top;\n",
       "    }\n",
       "\n",
       "    .dataframe thead th {\n",
       "        text-align: right;\n",
       "    }\n",
       "</style>\n",
       "<table border=\"1\" class=\"dataframe\">\n",
       "  <thead>\n",
       "    <tr style=\"text-align: right;\">\n",
       "      <th></th>\n",
       "      <th>count</th>\n",
       "      <th>mean</th>\n",
       "      <th>std</th>\n",
       "      <th>min</th>\n",
       "      <th>25%</th>\n",
       "      <th>50%</th>\n",
       "      <th>75%</th>\n",
       "      <th>max</th>\n",
       "    </tr>\n",
       "  </thead>\n",
       "  <tbody>\n",
       "    <tr>\n",
       "      <th>SalePrice</th>\n",
       "      <td>1460.0</td>\n",
       "      <td>180921.195890</td>\n",
       "      <td>79442.502883</td>\n",
       "      <td>34900.0</td>\n",
       "      <td>129975.00</td>\n",
       "      <td>163000.0</td>\n",
       "      <td>214000.00</td>\n",
       "      <td>755000.0</td>\n",
       "    </tr>\n",
       "    <tr>\n",
       "      <th>OverallQual</th>\n",
       "      <td>1460.0</td>\n",
       "      <td>6.099315</td>\n",
       "      <td>1.382997</td>\n",
       "      <td>1.0</td>\n",
       "      <td>5.00</td>\n",
       "      <td>6.0</td>\n",
       "      <td>7.00</td>\n",
       "      <td>10.0</td>\n",
       "    </tr>\n",
       "    <tr>\n",
       "      <th>OverallCond</th>\n",
       "      <td>1460.0</td>\n",
       "      <td>5.575342</td>\n",
       "      <td>1.112799</td>\n",
       "      <td>1.0</td>\n",
       "      <td>5.00</td>\n",
       "      <td>5.0</td>\n",
       "      <td>6.00</td>\n",
       "      <td>9.0</td>\n",
       "    </tr>\n",
       "    <tr>\n",
       "      <th>BedroomAbvGr</th>\n",
       "      <td>1460.0</td>\n",
       "      <td>2.866438</td>\n",
       "      <td>0.815778</td>\n",
       "      <td>0.0</td>\n",
       "      <td>2.00</td>\n",
       "      <td>3.0</td>\n",
       "      <td>3.00</td>\n",
       "      <td>8.0</td>\n",
       "    </tr>\n",
       "    <tr>\n",
       "      <th>TotRmsAbvGrd</th>\n",
       "      <td>1460.0</td>\n",
       "      <td>6.517808</td>\n",
       "      <td>1.625393</td>\n",
       "      <td>2.0</td>\n",
       "      <td>5.00</td>\n",
       "      <td>6.0</td>\n",
       "      <td>7.00</td>\n",
       "      <td>14.0</td>\n",
       "    </tr>\n",
       "    <tr>\n",
       "      <th>GrLivArea</th>\n",
       "      <td>1460.0</td>\n",
       "      <td>1515.463699</td>\n",
       "      <td>525.480383</td>\n",
       "      <td>334.0</td>\n",
       "      <td>1129.50</td>\n",
       "      <td>1464.0</td>\n",
       "      <td>1776.75</td>\n",
       "      <td>5642.0</td>\n",
       "    </tr>\n",
       "    <tr>\n",
       "      <th>TotalBsmtSF</th>\n",
       "      <td>1460.0</td>\n",
       "      <td>1057.429452</td>\n",
       "      <td>438.705324</td>\n",
       "      <td>0.0</td>\n",
       "      <td>795.75</td>\n",
       "      <td>991.5</td>\n",
       "      <td>1298.25</td>\n",
       "      <td>6110.0</td>\n",
       "    </tr>\n",
       "    <tr>\n",
       "      <th>YearBuilt</th>\n",
       "      <td>1460.0</td>\n",
       "      <td>1971.267808</td>\n",
       "      <td>30.202904</td>\n",
       "      <td>1872.0</td>\n",
       "      <td>1954.00</td>\n",
       "      <td>1973.0</td>\n",
       "      <td>2000.00</td>\n",
       "      <td>2010.0</td>\n",
       "    </tr>\n",
       "  </tbody>\n",
       "</table>\n",
       "</div>"
      ],
      "text/plain": [
       "               count           mean           std      min        25%  \\\n",
       "SalePrice     1460.0  180921.195890  79442.502883  34900.0  129975.00   \n",
       "OverallQual   1460.0       6.099315      1.382997      1.0       5.00   \n",
       "OverallCond   1460.0       5.575342      1.112799      1.0       5.00   \n",
       "BedroomAbvGr  1460.0       2.866438      0.815778      0.0       2.00   \n",
       "TotRmsAbvGrd  1460.0       6.517808      1.625393      2.0       5.00   \n",
       "GrLivArea     1460.0    1515.463699    525.480383    334.0    1129.50   \n",
       "TotalBsmtSF   1460.0    1057.429452    438.705324      0.0     795.75   \n",
       "YearBuilt     1460.0    1971.267808     30.202904   1872.0    1954.00   \n",
       "\n",
       "                   50%        75%       max  \n",
       "SalePrice     163000.0  214000.00  755000.0  \n",
       "OverallQual        6.0       7.00      10.0  \n",
       "OverallCond        5.0       6.00       9.0  \n",
       "BedroomAbvGr       3.0       3.00       8.0  \n",
       "TotRmsAbvGrd       6.0       7.00      14.0  \n",
       "GrLivArea       1464.0    1776.75    5642.0  \n",
       "TotalBsmtSF      991.5    1298.25    6110.0  \n",
       "YearBuilt       1973.0    2000.00    2010.0  "
      ]
     },
     "execution_count": 29,
     "metadata": {},
     "output_type": "execute_result"
    }
   ],
   "source": [
    "#Verificando estatística descritvas das colunas numéricas\n",
    "\n",
    "df.describe().T"
   ]
  },
  {
   "cell_type": "code",
   "execution_count": 44,
   "metadata": {},
   "outputs": [
    {
     "name": "stdout",
     "output_type": "stream",
     "text": [
      "0 0\n",
      "1 1\n",
      "2 2\n",
      "3 3\n",
      "4 4\n",
      "5 5\n",
      "6 6\n",
      "7 7\n"
     ]
    }
   ],
   "source": [
    "#Boxplot \n",
    "# fig,ax = plt.subplots(ncols=2,nrows=4,figsize = (8,10))\n",
    "# sns.boxplot(df['OverallQual'],ax=ax[0,0])\n",
    "\n",
    "# for column in df.columns: \n",
    "#     if df[column].dtypes == 'int64':\n",
    "#         fig,ax = plt.subplots(ncols=2,nrows=4,figsize = (8,10))\n",
    "#         sns.boxplot(df[column],ax=ax[0,0])\n",
    "linha = -1 \n",
    "coluna = -1        \n",
    "for column in df.columns:\n",
    "    if df[column].dtypes == 'int64':\n",
    "        linha += 1 \n",
    "        coluna += 1 \n",
    "        print(linha,coluna)"
   ]
  },
  {
   "cell_type": "code",
   "execution_count": null,
   "metadata": {},
   "outputs": [],
   "source": []
  }
 ],
 "metadata": {
  "kernelspec": {
   "display_name": "stats_eba",
   "language": "python",
   "name": "python3"
  },
  "language_info": {
   "codemirror_mode": {
    "name": "ipython",
    "version": 3
   },
   "file_extension": ".py",
   "mimetype": "text/x-python",
   "name": "python",
   "nbconvert_exporter": "python",
   "pygments_lexer": "ipython3",
   "version": "3.12.0"
  }
 },
 "nbformat": 4,
 "nbformat_minor": 2
}
